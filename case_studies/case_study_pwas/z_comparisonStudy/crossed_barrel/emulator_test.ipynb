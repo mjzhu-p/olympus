{
 "cells": [
  {
   "cell_type": "code",
   "execution_count": 7,
   "metadata": {
    "collapsed": true
   },
   "outputs": [
    {
     "name": "stdout",
     "output_type": "stream",
     "text": [
      "\u001B[0;37m[INFO] Loading emulator using a BayesNeuralNet model for the dataset crossed_barrel_old...\n",
      "\u001B[0m\u001B[0;37m[INFO] Loading emulator using a BayesNeuralNet model for the dataset crossed_barrel_old...\n",
      "\u001B[0m"
     ]
    }
   ],
   "source": [
    "from olympus import Emulator\n",
    "emulator_old = Emulator(dataset='crossed_barrel_old', model='BayesNeuralNet')\n",
    "emulator = Emulator(dataset='crossed_barrel_old', model='BayesNeuralNet')"
   ]
  },
  {
   "cell_type": "code",
   "execution_count": 8,
   "outputs": [
    {
     "name": "stdout",
     "output_type": "stream",
     "text": [
      "[[9.34095254]]\n",
      "[[7.58738033]]\n"
     ]
    }
   ],
   "source": [
    "import numpy as np\n",
    "value_old, _, __ = emulator_old.run([[11.        , 89.03488752,  1.54265495,  0.72413367]])\n",
    "print(value_old)\n",
    "\n",
    "value, _, __ = emulator.run([[11.        , 89.03488752,  1.54265495,  0.72413367]])\n",
    "print(value)"
   ],
   "metadata": {
    "collapsed": false,
    "pycharm": {
     "name": "#%%\n"
    }
   }
  },
  {
   "cell_type": "code",
   "execution_count": 9,
   "outputs": [
    {
     "name": "stdout",
     "output_type": "stream",
     "text": [
      "[[13.50648403]]\n"
     ]
    }
   ],
   "source": [
    "from olympus.emulators.emulator import load_emulator\n",
    "loaded = load_emulator('test_save')\n",
    "value, _, __ = loaded.run([[11.        , 89.03488752,  1.54265495,  0.72413367]])\n",
    "print(value)"
   ],
   "metadata": {
    "collapsed": false,
    "pycharm": {
     "name": "#%%\n"
    }
   }
  }
 ],
 "metadata": {
  "kernelspec": {
   "name": "olympus",
   "language": "python",
   "display_name": "olympus"
  },
  "language_info": {
   "codemirror_mode": {
    "name": "ipython",
    "version": 2
   },
   "file_extension": ".py",
   "mimetype": "text/x-python",
   "name": "python",
   "nbconvert_exporter": "python",
   "pygments_lexer": "ipython2",
   "version": "2.7.6"
  }
 },
 "nbformat": 4,
 "nbformat_minor": 0
}